{
  "nbformat": 4,
  "nbformat_minor": 0,
  "metadata": {
    "colab": {
      "provenance": [],
      "collapsed_sections": [
        "vZscpia5FOfp",
        "L7s207KZGWAJ",
        "ckEaca1kS8AL",
        "YxhM46NQex6-"
      ],
      "authorship_tag": "ABX9TyOfIFfXpbTK43eIJH7XEvA0",
      "include_colab_link": true
    },
    "kernelspec": {
      "name": "python3",
      "display_name": "Python 3"
    },
    "language_info": {
      "name": "python"
    }
  },
  "cells": [
    {
      "cell_type": "markdown",
      "metadata": {
        "id": "view-in-github",
        "colab_type": "text"
      },
      "source": [
        "<a href=\"https://colab.research.google.com/github/heliocarrara/Python-IA/blob/main/Sistema_para_busca_de_documentos_com_Gemini.ipynb\" target=\"_parent\"><img src=\"https://colab.research.google.com/assets/colab-badge.svg\" alt=\"Open In Colab\"/></a>"
      ]
    },
    {
      "cell_type": "markdown",
      "source": [
        "# Sistema para busca de documentos com **Gemini**"
      ],
      "metadata": {
        "id": "PWDRQVRpFTUO"
      }
    },
    {
      "cell_type": "markdown",
      "source": [
        "## Instalando e importando bibliotecas"
      ],
      "metadata": {
        "id": "vZscpia5FOfp"
      }
    },
    {
      "cell_type": "code",
      "execution_count": 1,
      "metadata": {
        "id": "4Y6tkYVeDmZS"
      },
      "outputs": [],
      "source": [
        "!pip install -U -q google-generativeai"
      ]
    },
    {
      "cell_type": "code",
      "source": [
        "import numpy as np\n",
        "import pandas as pd\n",
        "import google.generativeai as genai\n",
        "\n",
        "from google.colab import userdata\n",
        "\n",
        "GOOGLE_API_KEY = userdata.get('GOOGLE_API_KEY')\n",
        "\n",
        "genai.configure(api_key=GOOGLE_API_KEY)"
      ],
      "metadata": {
        "id": "_XpPoYsmD1LC"
      },
      "execution_count": 6,
      "outputs": []
    },
    {
      "cell_type": "markdown",
      "source": [],
      "metadata": {
        "id": "e-kDCVk0nJf3"
      }
    },
    {
      "cell_type": "markdown",
      "source": [
        "## Buscando os modelos de embeddings disponíveis"
      ],
      "metadata": {
        "id": "L7s207KZGWAJ"
      }
    },
    {
      "cell_type": "code",
      "source": [
        "for modelo in genai.list_models():\n",
        "  if 'embedContent' in modelo.supported_generation_methods:\n",
        "    print(modelo.name)"
      ],
      "metadata": {
        "colab": {
          "base_uri": "https://localhost:8080/",
          "height": 52
        },
        "id": "6-ON765nEVw3",
        "outputId": "3bd69132-554e-49da-d9e9-7661b9ad3883"
      },
      "execution_count": 7,
      "outputs": [
        {
          "output_type": "stream",
          "name": "stdout",
          "text": [
            "models/embedding-001\n",
            "models/text-embedding-004\n"
          ]
        }
      ]
    },
    {
      "cell_type": "code",
      "source": [
        "model = \"models/embedding-001\""
      ],
      "metadata": {
        "id": "m55Phyf2SoG6"
      },
      "execution_count": 23,
      "outputs": []
    },
    {
      "cell_type": "markdown",
      "source": [
        "## Testando Embbeddings"
      ],
      "metadata": {
        "id": "V189bxtgH9kQ"
      }
    },
    {
      "cell_type": "markdown",
      "source": [
        "### Entendendo sobre o processo de input embedContent"
      ],
      "metadata": {
        "id": "ckEaca1kS8AL"
      }
    },
    {
      "cell_type": "code",
      "source": [
        "def print_result_embed(result):\n",
        "  print(str(result['embedding'])[:50], '... TRIMMED ...')\n",
        "  print(\"\\n Quantidade: \", len(result['embedding']))"
      ],
      "metadata": {
        "id": "ihNyuybDVQmc"
      },
      "execution_count": 38,
      "outputs": []
    },
    {
      "cell_type": "code",
      "source": [
        "#Exemplo 1\n",
        "text = \"Hello World\"\n",
        "result = genai.embed_content(model=\"models/embedding-001\", content=text)\n",
        "\n",
        "print_result_embed(result)"
      ],
      "metadata": {
        "colab": {
          "base_uri": "https://localhost:8080/",
          "height": 69
        },
        "id": "ske0k83mIBRF",
        "outputId": "344290ab-b62b-4813-e99b-de8ce6b1eacf"
      },
      "execution_count": 39,
      "outputs": [
        {
          "output_type": "stream",
          "name": "stdout",
          "text": [
            "[0.046566796, -0.037675645, -0.027483625, -0.02519 ... TRIMMED ...\n",
            "\n",
            " Quantidade:  768\n"
          ]
        }
      ]
    },
    {
      "cell_type": "code",
      "source": [
        "#Exemplo 2\n",
        "text = \"Não importa o tamanho da frase\"\n",
        "result = genai.embed_content(model=model, content=text)\n",
        "\n",
        "print_result_embed(result)"
      ],
      "metadata": {
        "colab": {
          "base_uri": "https://localhost:8080/",
          "height": 69
        },
        "id": "QJVfMZoiIbe2",
        "outputId": "0bc96a04-7f99-4b70-9870-cfc9922bcf81"
      },
      "execution_count": 40,
      "outputs": [
        {
          "output_type": "stream",
          "name": "stdout",
          "text": [
            "[0.0118317325, -0.04640216, -0.006971612, -0.01099 ... TRIMMED ...\n",
            "\n",
            " Quantidade:  768\n"
          ]
        }
      ]
    },
    {
      "cell_type": "code",
      "source": [
        "#Exemplo com string formatada\n",
        "title = \"A próxima geração de IA para devs\"\n",
        "sample_text = (\" Título: A próxima geração de IA para dev\"\n",
        "  \"\\n\"\n",
        "  \"Artigo completo:\\n\"\n",
        "  \"\\n\"\n",
        "  \"Gemini API e o Google AI Studio: Uma maneira acessível de explorar e criar protótipos com aplicações de IA generativa\"\n",
        "  )\n",
        "result = genai.embed_content(model=model,\n",
        "                                 content=sample_text,\n",
        "                                 title=title,\n",
        "                                 task_type=\"RETRIEVAL_DOCUMENT\")\n",
        "\n",
        "print_result_embed(result)"
      ],
      "metadata": {
        "colab": {
          "base_uri": "https://localhost:8080/",
          "height": 69
        },
        "id": "qEXnDbujN8yo",
        "outputId": "14e6ed00-873d-4b1e-b5eb-94e3dea83add"
      },
      "execution_count": 41,
      "outputs": [
        {
          "output_type": "stream",
          "name": "stdout",
          "text": [
            "[0.049624845, -0.02966441, -0.005742258, 0.0226721 ... TRIMMED ...\n",
            "\n",
            " Quantidade:  768\n"
          ]
        }
      ]
    },
    {
      "cell_type": "code",
      "source": [
        "# Lista de documentos a serem buscados\n",
        "documents = [\n",
        "    {\n",
        "        \"Titulo\": \"Operação do sistema de controle climático\",\n",
        "        \"Conteúdo\": \"O Googlecar tem um sistema de controle climático que permite ajustar a temperatura e o fluxo de ar no carro. Para operar o sistema, siga estas etapas:\\n\\n1. Pressione o botão de controle climático no console central.\\n2. Use os botões para cima e para baixo para ajustar a temperatura desejada.\\n3. Use o botão de ventilador para ajustar o fluxo de ar desejado.\\n4. Para desligar o sistema de controle climático, pressione o botão de controle climático novamente.\\n\\n**Observações:**\\n* O sistema de controle climático também pode ser controlado usando a tela sensível ao toque no console central.\\n* Se você tiver alguma dúvida sobre como operar o sistema de controle climático, consulte o manual do proprietário do seu Googlecar.\"\n",
        "    },\n",
        "    {\n",
        "        \"Titulo\": \"Touchscreen\",\n",
        "        \"Conteúdo\": \"O seu Googlecar tem uma grande tela sensível ao toque que fornece acesso a uma variedade de recursos, incluindo navegação, entretenimento, comunicação e configurações. Para usar a tela sensível ao toque, siga estas etapas:\\n\\n1. Toque na tela para abrir um aplicativo ou função.\\n2. Deslize o dedo pela tela para rolar por listas ou opções.\\n3. Toque e segure um item para abri-lo em um menu pop-up.\\n4. Pince ou afaste os dedos para aumentar ou diminuir o zoom.\\n5. Para fechar um aplicativo ou função, toque no botão Voltar na parte inferior da tela.\\n\\n**Observações:**\\n* A tela sensível ao toque também pode ser controlada usando comandos de voz.\\n* Se você tiver alguma dúvida sobre como usar a tela sensível ao toque, consulte o manual do proprietário do seu Googlecar.\"\n",
        "    },\n",
        "    {\n",
        "        \"Titulo\": \"Mudança de marchas\",\n",
        "        \"Conteúdo\": \"Seu Googlecar tem uma transmissão automática. Para trocar as marchas, basta mover a alavanca de câmbio para a posição desejada. As posições da alavanca de câmbio são as seguintes:\\n\\n* **P:** Estacionamento\\n* **R:** Ré\\n* **N:** Neutro\\n* **D:** Drive\\n* **L:** Baixa marcha\\n\\n**Observações:**\\n* Se você não tiver certeza de qual marcha usar, consulte o manual do proprietário do seu Googlecar.\\n* Você também pode usar os botões no volante para trocar as marchas em alguns modelos de Googlecar.\"\n",
        "    }\n",
        "]\n",
        "\n"
      ],
      "metadata": {
        "id": "7JDSRrMGQ0TR"
      },
      "execution_count": 42,
      "outputs": []
    },
    {
      "cell_type": "code",
      "source": [
        "#Transformando os documentos em dataframe\n",
        "\n",
        "df = pd.DataFrame(documents)\n",
        "\n",
        "df.columns = [\"Titulo\", \"Conteudo\"]\n",
        "\n",
        "df"
      ],
      "metadata": {
        "colab": {
          "base_uri": "https://localhost:8080/",
          "height": 143
        },
        "id": "jgj-v4QaRdPL",
        "outputId": "3f65f6e6-af7f-4130-bb15-3780171319ff"
      },
      "execution_count": 43,
      "outputs": [
        {
          "output_type": "execute_result",
          "data": {
            "text/plain": [
              "                                      Titulo  \\\n",
              "0  Operação do sistema de controle climático   \n",
              "1                                Touchscreen   \n",
              "2                         Mudança de marchas   \n",
              "\n",
              "                                            Conteudo  \n",
              "0  O Googlecar tem um sistema de controle climáti...  \n",
              "1  O seu Googlecar tem uma grande tela sensível a...  \n",
              "2  Seu Googlecar tem uma transmissão automática. ...  "
            ],
            "text/html": [
              "\n",
              "  <div id=\"df-70c85bbf-001f-42bc-b250-54fa283932ba\" class=\"colab-df-container\">\n",
              "    <div>\n",
              "<style scoped>\n",
              "    .dataframe tbody tr th:only-of-type {\n",
              "        vertical-align: middle;\n",
              "    }\n",
              "\n",
              "    .dataframe tbody tr th {\n",
              "        vertical-align: top;\n",
              "    }\n",
              "\n",
              "    .dataframe thead th {\n",
              "        text-align: right;\n",
              "    }\n",
              "</style>\n",
              "<table border=\"1\" class=\"dataframe\">\n",
              "  <thead>\n",
              "    <tr style=\"text-align: right;\">\n",
              "      <th></th>\n",
              "      <th>Titulo</th>\n",
              "      <th>Conteudo</th>\n",
              "    </tr>\n",
              "  </thead>\n",
              "  <tbody>\n",
              "    <tr>\n",
              "      <th>0</th>\n",
              "      <td>Operação do sistema de controle climático</td>\n",
              "      <td>O Googlecar tem um sistema de controle climáti...</td>\n",
              "    </tr>\n",
              "    <tr>\n",
              "      <th>1</th>\n",
              "      <td>Touchscreen</td>\n",
              "      <td>O seu Googlecar tem uma grande tela sensível a...</td>\n",
              "    </tr>\n",
              "    <tr>\n",
              "      <th>2</th>\n",
              "      <td>Mudança de marchas</td>\n",
              "      <td>Seu Googlecar tem uma transmissão automática. ...</td>\n",
              "    </tr>\n",
              "  </tbody>\n",
              "</table>\n",
              "</div>\n",
              "    <div class=\"colab-df-buttons\">\n",
              "\n",
              "  <div class=\"colab-df-container\">\n",
              "    <button class=\"colab-df-convert\" onclick=\"convertToInteractive('df-70c85bbf-001f-42bc-b250-54fa283932ba')\"\n",
              "            title=\"Convert this dataframe to an interactive table.\"\n",
              "            style=\"display:none;\">\n",
              "\n",
              "  <svg xmlns=\"http://www.w3.org/2000/svg\" height=\"24px\" viewBox=\"0 -960 960 960\">\n",
              "    <path d=\"M120-120v-720h720v720H120Zm60-500h600v-160H180v160Zm220 220h160v-160H400v160Zm0 220h160v-160H400v160ZM180-400h160v-160H180v160Zm440 0h160v-160H620v160ZM180-180h160v-160H180v160Zm440 0h160v-160H620v160Z\"/>\n",
              "  </svg>\n",
              "    </button>\n",
              "\n",
              "  <style>\n",
              "    .colab-df-container {\n",
              "      display:flex;\n",
              "      gap: 12px;\n",
              "    }\n",
              "\n",
              "    .colab-df-convert {\n",
              "      background-color: #E8F0FE;\n",
              "      border: none;\n",
              "      border-radius: 50%;\n",
              "      cursor: pointer;\n",
              "      display: none;\n",
              "      fill: #1967D2;\n",
              "      height: 32px;\n",
              "      padding: 0 0 0 0;\n",
              "      width: 32px;\n",
              "    }\n",
              "\n",
              "    .colab-df-convert:hover {\n",
              "      background-color: #E2EBFA;\n",
              "      box-shadow: 0px 1px 2px rgba(60, 64, 67, 0.3), 0px 1px 3px 1px rgba(60, 64, 67, 0.15);\n",
              "      fill: #174EA6;\n",
              "    }\n",
              "\n",
              "    .colab-df-buttons div {\n",
              "      margin-bottom: 4px;\n",
              "    }\n",
              "\n",
              "    [theme=dark] .colab-df-convert {\n",
              "      background-color: #3B4455;\n",
              "      fill: #D2E3FC;\n",
              "    }\n",
              "\n",
              "    [theme=dark] .colab-df-convert:hover {\n",
              "      background-color: #434B5C;\n",
              "      box-shadow: 0px 1px 3px 1px rgba(0, 0, 0, 0.15);\n",
              "      filter: drop-shadow(0px 1px 2px rgba(0, 0, 0, 0.3));\n",
              "      fill: #FFFFFF;\n",
              "    }\n",
              "  </style>\n",
              "\n",
              "    <script>\n",
              "      const buttonEl =\n",
              "        document.querySelector('#df-70c85bbf-001f-42bc-b250-54fa283932ba button.colab-df-convert');\n",
              "      buttonEl.style.display =\n",
              "        google.colab.kernel.accessAllowed ? 'block' : 'none';\n",
              "\n",
              "      async function convertToInteractive(key) {\n",
              "        const element = document.querySelector('#df-70c85bbf-001f-42bc-b250-54fa283932ba');\n",
              "        const dataTable =\n",
              "          await google.colab.kernel.invokeFunction('convertToInteractive',\n",
              "                                                    [key], {});\n",
              "        if (!dataTable) return;\n",
              "\n",
              "        const docLinkHtml = 'Like what you see? Visit the ' +\n",
              "          '<a target=\"_blank\" href=https://colab.research.google.com/notebooks/data_table.ipynb>data table notebook</a>'\n",
              "          + ' to learn more about interactive tables.';\n",
              "        element.innerHTML = '';\n",
              "        dataTable['output_type'] = 'display_data';\n",
              "        await google.colab.output.renderOutput(dataTable, element);\n",
              "        const docLink = document.createElement('div');\n",
              "        docLink.innerHTML = docLinkHtml;\n",
              "        element.appendChild(docLink);\n",
              "      }\n",
              "    </script>\n",
              "  </div>\n",
              "\n",
              "\n",
              "<div id=\"df-b342cdfe-4488-44c7-84bc-ead5af325a35\">\n",
              "  <button class=\"colab-df-quickchart\" onclick=\"quickchart('df-b342cdfe-4488-44c7-84bc-ead5af325a35')\"\n",
              "            title=\"Suggest charts\"\n",
              "            style=\"display:none;\">\n",
              "\n",
              "<svg xmlns=\"http://www.w3.org/2000/svg\" height=\"24px\"viewBox=\"0 0 24 24\"\n",
              "     width=\"24px\">\n",
              "    <g>\n",
              "        <path d=\"M19 3H5c-1.1 0-2 .9-2 2v14c0 1.1.9 2 2 2h14c1.1 0 2-.9 2-2V5c0-1.1-.9-2-2-2zM9 17H7v-7h2v7zm4 0h-2V7h2v10zm4 0h-2v-4h2v4z\"/>\n",
              "    </g>\n",
              "</svg>\n",
              "  </button>\n",
              "\n",
              "<style>\n",
              "  .colab-df-quickchart {\n",
              "      --bg-color: #E8F0FE;\n",
              "      --fill-color: #1967D2;\n",
              "      --hover-bg-color: #E2EBFA;\n",
              "      --hover-fill-color: #174EA6;\n",
              "      --disabled-fill-color: #AAA;\n",
              "      --disabled-bg-color: #DDD;\n",
              "  }\n",
              "\n",
              "  [theme=dark] .colab-df-quickchart {\n",
              "      --bg-color: #3B4455;\n",
              "      --fill-color: #D2E3FC;\n",
              "      --hover-bg-color: #434B5C;\n",
              "      --hover-fill-color: #FFFFFF;\n",
              "      --disabled-bg-color: #3B4455;\n",
              "      --disabled-fill-color: #666;\n",
              "  }\n",
              "\n",
              "  .colab-df-quickchart {\n",
              "    background-color: var(--bg-color);\n",
              "    border: none;\n",
              "    border-radius: 50%;\n",
              "    cursor: pointer;\n",
              "    display: none;\n",
              "    fill: var(--fill-color);\n",
              "    height: 32px;\n",
              "    padding: 0;\n",
              "    width: 32px;\n",
              "  }\n",
              "\n",
              "  .colab-df-quickchart:hover {\n",
              "    background-color: var(--hover-bg-color);\n",
              "    box-shadow: 0 1px 2px rgba(60, 64, 67, 0.3), 0 1px 3px 1px rgba(60, 64, 67, 0.15);\n",
              "    fill: var(--button-hover-fill-color);\n",
              "  }\n",
              "\n",
              "  .colab-df-quickchart-complete:disabled,\n",
              "  .colab-df-quickchart-complete:disabled:hover {\n",
              "    background-color: var(--disabled-bg-color);\n",
              "    fill: var(--disabled-fill-color);\n",
              "    box-shadow: none;\n",
              "  }\n",
              "\n",
              "  .colab-df-spinner {\n",
              "    border: 2px solid var(--fill-color);\n",
              "    border-color: transparent;\n",
              "    border-bottom-color: var(--fill-color);\n",
              "    animation:\n",
              "      spin 1s steps(1) infinite;\n",
              "  }\n",
              "\n",
              "  @keyframes spin {\n",
              "    0% {\n",
              "      border-color: transparent;\n",
              "      border-bottom-color: var(--fill-color);\n",
              "      border-left-color: var(--fill-color);\n",
              "    }\n",
              "    20% {\n",
              "      border-color: transparent;\n",
              "      border-left-color: var(--fill-color);\n",
              "      border-top-color: var(--fill-color);\n",
              "    }\n",
              "    30% {\n",
              "      border-color: transparent;\n",
              "      border-left-color: var(--fill-color);\n",
              "      border-top-color: var(--fill-color);\n",
              "      border-right-color: var(--fill-color);\n",
              "    }\n",
              "    40% {\n",
              "      border-color: transparent;\n",
              "      border-right-color: var(--fill-color);\n",
              "      border-top-color: var(--fill-color);\n",
              "    }\n",
              "    60% {\n",
              "      border-color: transparent;\n",
              "      border-right-color: var(--fill-color);\n",
              "    }\n",
              "    80% {\n",
              "      border-color: transparent;\n",
              "      border-right-color: var(--fill-color);\n",
              "      border-bottom-color: var(--fill-color);\n",
              "    }\n",
              "    90% {\n",
              "      border-color: transparent;\n",
              "      border-bottom-color: var(--fill-color);\n",
              "    }\n",
              "  }\n",
              "</style>\n",
              "\n",
              "  <script>\n",
              "    async function quickchart(key) {\n",
              "      const quickchartButtonEl =\n",
              "        document.querySelector('#' + key + ' button');\n",
              "      quickchartButtonEl.disabled = true;  // To prevent multiple clicks.\n",
              "      quickchartButtonEl.classList.add('colab-df-spinner');\n",
              "      try {\n",
              "        const charts = await google.colab.kernel.invokeFunction(\n",
              "            'suggestCharts', [key], {});\n",
              "      } catch (error) {\n",
              "        console.error('Error during call to suggestCharts:', error);\n",
              "      }\n",
              "      quickchartButtonEl.classList.remove('colab-df-spinner');\n",
              "      quickchartButtonEl.classList.add('colab-df-quickchart-complete');\n",
              "    }\n",
              "    (() => {\n",
              "      let quickchartButtonEl =\n",
              "        document.querySelector('#df-b342cdfe-4488-44c7-84bc-ead5af325a35 button');\n",
              "      quickchartButtonEl.style.display =\n",
              "        google.colab.kernel.accessAllowed ? 'block' : 'none';\n",
              "    })();\n",
              "  </script>\n",
              "</div>\n",
              "\n",
              "  <div id=\"id_53b6bfaf-026f-4484-bfdc-dd06f91bddba\">\n",
              "    <style>\n",
              "      .colab-df-generate {\n",
              "        background-color: #E8F0FE;\n",
              "        border: none;\n",
              "        border-radius: 50%;\n",
              "        cursor: pointer;\n",
              "        display: none;\n",
              "        fill: #1967D2;\n",
              "        height: 32px;\n",
              "        padding: 0 0 0 0;\n",
              "        width: 32px;\n",
              "      }\n",
              "\n",
              "      .colab-df-generate:hover {\n",
              "        background-color: #E2EBFA;\n",
              "        box-shadow: 0px 1px 2px rgba(60, 64, 67, 0.3), 0px 1px 3px 1px rgba(60, 64, 67, 0.15);\n",
              "        fill: #174EA6;\n",
              "      }\n",
              "\n",
              "      [theme=dark] .colab-df-generate {\n",
              "        background-color: #3B4455;\n",
              "        fill: #D2E3FC;\n",
              "      }\n",
              "\n",
              "      [theme=dark] .colab-df-generate:hover {\n",
              "        background-color: #434B5C;\n",
              "        box-shadow: 0px 1px 3px 1px rgba(0, 0, 0, 0.15);\n",
              "        filter: drop-shadow(0px 1px 2px rgba(0, 0, 0, 0.3));\n",
              "        fill: #FFFFFF;\n",
              "      }\n",
              "    </style>\n",
              "    <button class=\"colab-df-generate\" onclick=\"generateWithVariable('df')\"\n",
              "            title=\"Generate code using this dataframe.\"\n",
              "            style=\"display:none;\">\n",
              "\n",
              "  <svg xmlns=\"http://www.w3.org/2000/svg\" height=\"24px\"viewBox=\"0 0 24 24\"\n",
              "       width=\"24px\">\n",
              "    <path d=\"M7,19H8.4L18.45,9,17,7.55,7,17.6ZM5,21V16.75L18.45,3.32a2,2,0,0,1,2.83,0l1.4,1.43a1.91,1.91,0,0,1,.58,1.4,1.91,1.91,0,0,1-.58,1.4L9.25,21ZM18.45,9,17,7.55Zm-12,3A5.31,5.31,0,0,0,4.9,8.1,5.31,5.31,0,0,0,1,6.5,5.31,5.31,0,0,0,4.9,4.9,5.31,5.31,0,0,0,6.5,1,5.31,5.31,0,0,0,8.1,4.9,5.31,5.31,0,0,0,12,6.5,5.46,5.46,0,0,0,6.5,12Z\"/>\n",
              "  </svg>\n",
              "    </button>\n",
              "    <script>\n",
              "      (() => {\n",
              "      const buttonEl =\n",
              "        document.querySelector('#id_53b6bfaf-026f-4484-bfdc-dd06f91bddba button.colab-df-generate');\n",
              "      buttonEl.style.display =\n",
              "        google.colab.kernel.accessAllowed ? 'block' : 'none';\n",
              "\n",
              "      buttonEl.onclick = () => {\n",
              "        google.colab.notebook.generateWithVariable('df');\n",
              "      }\n",
              "      })();\n",
              "    </script>\n",
              "  </div>\n",
              "\n",
              "    </div>\n",
              "  </div>\n"
            ],
            "application/vnd.google.colaboratory.intrinsic+json": {
              "type": "dataframe",
              "variable_name": "df",
              "summary": "{\n  \"name\": \"df\",\n  \"rows\": 3,\n  \"fields\": [\n    {\n      \"column\": \"Titulo\",\n      \"properties\": {\n        \"dtype\": \"string\",\n        \"num_unique_values\": 3,\n        \"samples\": [\n          \"Opera\\u00e7\\u00e3o do sistema de controle clim\\u00e1tico\",\n          \"Touchscreen\",\n          \"Mudan\\u00e7a de marchas\"\n        ],\n        \"semantic_type\": \"\",\n        \"description\": \"\"\n      }\n    },\n    {\n      \"column\": \"Conteudo\",\n      \"properties\": {\n        \"dtype\": \"string\",\n        \"num_unique_values\": 3,\n        \"samples\": [\n          \"O Googlecar tem um sistema de controle clim\\u00e1tico que permite ajustar a temperatura e o fluxo de ar no carro. Para operar o sistema, siga estas etapas:\\n\\n1. Pressione o bot\\u00e3o de controle clim\\u00e1tico no console central.\\n2. Use os bot\\u00f5es para cima e para baixo para ajustar a temperatura desejada.\\n3. Use o bot\\u00e3o de ventilador para ajustar o fluxo de ar desejado.\\n4. Para desligar o sistema de controle clim\\u00e1tico, pressione o bot\\u00e3o de controle clim\\u00e1tico novamente.\\n\\n**Observa\\u00e7\\u00f5es:**\\n* O sistema de controle clim\\u00e1tico tamb\\u00e9m pode ser controlado usando a tela sens\\u00edvel ao toque no console central.\\n* Se voc\\u00ea tiver alguma d\\u00favida sobre como operar o sistema de controle clim\\u00e1tico, consulte o manual do propriet\\u00e1rio do seu Googlecar.\",\n          \"O seu Googlecar tem uma grande tela sens\\u00edvel ao toque que fornece acesso a uma variedade de recursos, incluindo navega\\u00e7\\u00e3o, entretenimento, comunica\\u00e7\\u00e3o e configura\\u00e7\\u00f5es. Para usar a tela sens\\u00edvel ao toque, siga estas etapas:\\n\\n1. Toque na tela para abrir um aplicativo ou fun\\u00e7\\u00e3o.\\n2. Deslize o dedo pela tela para rolar por listas ou op\\u00e7\\u00f5es.\\n3. Toque e segure um item para abri-lo em um menu pop-up.\\n4. Pince ou afaste os dedos para aumentar ou diminuir o zoom.\\n5. Para fechar um aplicativo ou fun\\u00e7\\u00e3o, toque no bot\\u00e3o Voltar na parte inferior da tela.\\n\\n**Observa\\u00e7\\u00f5es:**\\n* A tela sens\\u00edvel ao toque tamb\\u00e9m pode ser controlada usando comandos de voz.\\n* Se voc\\u00ea tiver alguma d\\u00favida sobre como usar a tela sens\\u00edvel ao toque, consulte o manual do propriet\\u00e1rio do seu Googlecar.\",\n          \"Seu Googlecar tem uma transmiss\\u00e3o autom\\u00e1tica. Para trocar as marchas, basta mover a alavanca de c\\u00e2mbio para a posi\\u00e7\\u00e3o desejada. As posi\\u00e7\\u00f5es da alavanca de c\\u00e2mbio s\\u00e3o as seguintes:\\n\\n* **P:** Estacionamento\\n* **R:** R\\u00e9\\n* **N:** Neutro\\n* **D:** Drive\\n* **L:** Baixa marcha\\n\\n**Observa\\u00e7\\u00f5es:**\\n* Se voc\\u00ea n\\u00e3o tiver certeza de qual marcha usar, consulte o manual do propriet\\u00e1rio do seu Googlecar.\\n* Voc\\u00ea tamb\\u00e9m pode usar os bot\\u00f5es no volante para trocar as marchas em alguns modelos de Googlecar.\"\n        ],\n        \"semantic_type\": \"\",\n        \"description\": \"\"\n      }\n    }\n  ]\n}"
            }
          },
          "metadata": {},
          "execution_count": 43
        }
      ]
    },
    {
      "cell_type": "code",
      "source": [
        "# Fazendo a função para definir a coluna embedding\n",
        "def embed_fn(title, text, model):\n",
        "  return genai.embed_content(model=model,\n",
        "                             content=text,\n",
        "                             title=title,\n",
        "                             task_type=\"RETRIEVAL_DOCUMENT\")[\"embedding\"]"
      ],
      "metadata": {
        "id": "pIJgPoueSENR"
      },
      "execution_count": 46,
      "outputs": []
    },
    {
      "cell_type": "code",
      "source": [
        "df[\"Embeddings\"] = df.apply(lambda row: embed_fn(row[\"Titulo\"], row[\"Conteudo\"], model), axis=1)\n",
        "df"
      ],
      "metadata": {
        "colab": {
          "base_uri": "https://localhost:8080/",
          "height": 143
        },
        "id": "kqeO5zNLXiWk",
        "outputId": "7cc62af2-d4a5-422b-f4a4-a8e37286d00d"
      },
      "execution_count": 47,
      "outputs": [
        {
          "output_type": "execute_result",
          "data": {
            "text/plain": [
              "                                      Titulo  \\\n",
              "0  Operação do sistema de controle climático   \n",
              "1                                Touchscreen   \n",
              "2                         Mudança de marchas   \n",
              "\n",
              "                                            Conteudo  \\\n",
              "0  O Googlecar tem um sistema de controle climáti...   \n",
              "1  O seu Googlecar tem uma grande tela sensível a...   \n",
              "2  Seu Googlecar tem uma transmissão automática. ...   \n",
              "\n",
              "                                          Embeddings  \n",
              "0  [-0.015592019, -0.025081286, -0.040180206, 0.0...  \n",
              "1  [0.008534755, -0.03925692, 0.01427669, -0.0104...  \n",
              "2  [-0.009098142, -0.031871554, -0.007832273, 0.0...  "
            ],
            "text/html": [
              "\n",
              "  <div id=\"df-7260bcbc-8eca-4244-ae91-9e40cdbac63c\" class=\"colab-df-container\">\n",
              "    <div>\n",
              "<style scoped>\n",
              "    .dataframe tbody tr th:only-of-type {\n",
              "        vertical-align: middle;\n",
              "    }\n",
              "\n",
              "    .dataframe tbody tr th {\n",
              "        vertical-align: top;\n",
              "    }\n",
              "\n",
              "    .dataframe thead th {\n",
              "        text-align: right;\n",
              "    }\n",
              "</style>\n",
              "<table border=\"1\" class=\"dataframe\">\n",
              "  <thead>\n",
              "    <tr style=\"text-align: right;\">\n",
              "      <th></th>\n",
              "      <th>Titulo</th>\n",
              "      <th>Conteudo</th>\n",
              "      <th>Embeddings</th>\n",
              "    </tr>\n",
              "  </thead>\n",
              "  <tbody>\n",
              "    <tr>\n",
              "      <th>0</th>\n",
              "      <td>Operação do sistema de controle climático</td>\n",
              "      <td>O Googlecar tem um sistema de controle climáti...</td>\n",
              "      <td>[-0.015592019, -0.025081286, -0.040180206, 0.0...</td>\n",
              "    </tr>\n",
              "    <tr>\n",
              "      <th>1</th>\n",
              "      <td>Touchscreen</td>\n",
              "      <td>O seu Googlecar tem uma grande tela sensível a...</td>\n",
              "      <td>[0.008534755, -0.03925692, 0.01427669, -0.0104...</td>\n",
              "    </tr>\n",
              "    <tr>\n",
              "      <th>2</th>\n",
              "      <td>Mudança de marchas</td>\n",
              "      <td>Seu Googlecar tem uma transmissão automática. ...</td>\n",
              "      <td>[-0.009098142, -0.031871554, -0.007832273, 0.0...</td>\n",
              "    </tr>\n",
              "  </tbody>\n",
              "</table>\n",
              "</div>\n",
              "    <div class=\"colab-df-buttons\">\n",
              "\n",
              "  <div class=\"colab-df-container\">\n",
              "    <button class=\"colab-df-convert\" onclick=\"convertToInteractive('df-7260bcbc-8eca-4244-ae91-9e40cdbac63c')\"\n",
              "            title=\"Convert this dataframe to an interactive table.\"\n",
              "            style=\"display:none;\">\n",
              "\n",
              "  <svg xmlns=\"http://www.w3.org/2000/svg\" height=\"24px\" viewBox=\"0 -960 960 960\">\n",
              "    <path d=\"M120-120v-720h720v720H120Zm60-500h600v-160H180v160Zm220 220h160v-160H400v160Zm0 220h160v-160H400v160ZM180-400h160v-160H180v160Zm440 0h160v-160H620v160ZM180-180h160v-160H180v160Zm440 0h160v-160H620v160Z\"/>\n",
              "  </svg>\n",
              "    </button>\n",
              "\n",
              "  <style>\n",
              "    .colab-df-container {\n",
              "      display:flex;\n",
              "      gap: 12px;\n",
              "    }\n",
              "\n",
              "    .colab-df-convert {\n",
              "      background-color: #E8F0FE;\n",
              "      border: none;\n",
              "      border-radius: 50%;\n",
              "      cursor: pointer;\n",
              "      display: none;\n",
              "      fill: #1967D2;\n",
              "      height: 32px;\n",
              "      padding: 0 0 0 0;\n",
              "      width: 32px;\n",
              "    }\n",
              "\n",
              "    .colab-df-convert:hover {\n",
              "      background-color: #E2EBFA;\n",
              "      box-shadow: 0px 1px 2px rgba(60, 64, 67, 0.3), 0px 1px 3px 1px rgba(60, 64, 67, 0.15);\n",
              "      fill: #174EA6;\n",
              "    }\n",
              "\n",
              "    .colab-df-buttons div {\n",
              "      margin-bottom: 4px;\n",
              "    }\n",
              "\n",
              "    [theme=dark] .colab-df-convert {\n",
              "      background-color: #3B4455;\n",
              "      fill: #D2E3FC;\n",
              "    }\n",
              "\n",
              "    [theme=dark] .colab-df-convert:hover {\n",
              "      background-color: #434B5C;\n",
              "      box-shadow: 0px 1px 3px 1px rgba(0, 0, 0, 0.15);\n",
              "      filter: drop-shadow(0px 1px 2px rgba(0, 0, 0, 0.3));\n",
              "      fill: #FFFFFF;\n",
              "    }\n",
              "  </style>\n",
              "\n",
              "    <script>\n",
              "      const buttonEl =\n",
              "        document.querySelector('#df-7260bcbc-8eca-4244-ae91-9e40cdbac63c button.colab-df-convert');\n",
              "      buttonEl.style.display =\n",
              "        google.colab.kernel.accessAllowed ? 'block' : 'none';\n",
              "\n",
              "      async function convertToInteractive(key) {\n",
              "        const element = document.querySelector('#df-7260bcbc-8eca-4244-ae91-9e40cdbac63c');\n",
              "        const dataTable =\n",
              "          await google.colab.kernel.invokeFunction('convertToInteractive',\n",
              "                                                    [key], {});\n",
              "        if (!dataTable) return;\n",
              "\n",
              "        const docLinkHtml = 'Like what you see? Visit the ' +\n",
              "          '<a target=\"_blank\" href=https://colab.research.google.com/notebooks/data_table.ipynb>data table notebook</a>'\n",
              "          + ' to learn more about interactive tables.';\n",
              "        element.innerHTML = '';\n",
              "        dataTable['output_type'] = 'display_data';\n",
              "        await google.colab.output.renderOutput(dataTable, element);\n",
              "        const docLink = document.createElement('div');\n",
              "        docLink.innerHTML = docLinkHtml;\n",
              "        element.appendChild(docLink);\n",
              "      }\n",
              "    </script>\n",
              "  </div>\n",
              "\n",
              "\n",
              "<div id=\"df-2c6c5f64-348a-4365-b9d8-0967d63b16b3\">\n",
              "  <button class=\"colab-df-quickchart\" onclick=\"quickchart('df-2c6c5f64-348a-4365-b9d8-0967d63b16b3')\"\n",
              "            title=\"Suggest charts\"\n",
              "            style=\"display:none;\">\n",
              "\n",
              "<svg xmlns=\"http://www.w3.org/2000/svg\" height=\"24px\"viewBox=\"0 0 24 24\"\n",
              "     width=\"24px\">\n",
              "    <g>\n",
              "        <path d=\"M19 3H5c-1.1 0-2 .9-2 2v14c0 1.1.9 2 2 2h14c1.1 0 2-.9 2-2V5c0-1.1-.9-2-2-2zM9 17H7v-7h2v7zm4 0h-2V7h2v10zm4 0h-2v-4h2v4z\"/>\n",
              "    </g>\n",
              "</svg>\n",
              "  </button>\n",
              "\n",
              "<style>\n",
              "  .colab-df-quickchart {\n",
              "      --bg-color: #E8F0FE;\n",
              "      --fill-color: #1967D2;\n",
              "      --hover-bg-color: #E2EBFA;\n",
              "      --hover-fill-color: #174EA6;\n",
              "      --disabled-fill-color: #AAA;\n",
              "      --disabled-bg-color: #DDD;\n",
              "  }\n",
              "\n",
              "  [theme=dark] .colab-df-quickchart {\n",
              "      --bg-color: #3B4455;\n",
              "      --fill-color: #D2E3FC;\n",
              "      --hover-bg-color: #434B5C;\n",
              "      --hover-fill-color: #FFFFFF;\n",
              "      --disabled-bg-color: #3B4455;\n",
              "      --disabled-fill-color: #666;\n",
              "  }\n",
              "\n",
              "  .colab-df-quickchart {\n",
              "    background-color: var(--bg-color);\n",
              "    border: none;\n",
              "    border-radius: 50%;\n",
              "    cursor: pointer;\n",
              "    display: none;\n",
              "    fill: var(--fill-color);\n",
              "    height: 32px;\n",
              "    padding: 0;\n",
              "    width: 32px;\n",
              "  }\n",
              "\n",
              "  .colab-df-quickchart:hover {\n",
              "    background-color: var(--hover-bg-color);\n",
              "    box-shadow: 0 1px 2px rgba(60, 64, 67, 0.3), 0 1px 3px 1px rgba(60, 64, 67, 0.15);\n",
              "    fill: var(--button-hover-fill-color);\n",
              "  }\n",
              "\n",
              "  .colab-df-quickchart-complete:disabled,\n",
              "  .colab-df-quickchart-complete:disabled:hover {\n",
              "    background-color: var(--disabled-bg-color);\n",
              "    fill: var(--disabled-fill-color);\n",
              "    box-shadow: none;\n",
              "  }\n",
              "\n",
              "  .colab-df-spinner {\n",
              "    border: 2px solid var(--fill-color);\n",
              "    border-color: transparent;\n",
              "    border-bottom-color: var(--fill-color);\n",
              "    animation:\n",
              "      spin 1s steps(1) infinite;\n",
              "  }\n",
              "\n",
              "  @keyframes spin {\n",
              "    0% {\n",
              "      border-color: transparent;\n",
              "      border-bottom-color: var(--fill-color);\n",
              "      border-left-color: var(--fill-color);\n",
              "    }\n",
              "    20% {\n",
              "      border-color: transparent;\n",
              "      border-left-color: var(--fill-color);\n",
              "      border-top-color: var(--fill-color);\n",
              "    }\n",
              "    30% {\n",
              "      border-color: transparent;\n",
              "      border-left-color: var(--fill-color);\n",
              "      border-top-color: var(--fill-color);\n",
              "      border-right-color: var(--fill-color);\n",
              "    }\n",
              "    40% {\n",
              "      border-color: transparent;\n",
              "      border-right-color: var(--fill-color);\n",
              "      border-top-color: var(--fill-color);\n",
              "    }\n",
              "    60% {\n",
              "      border-color: transparent;\n",
              "      border-right-color: var(--fill-color);\n",
              "    }\n",
              "    80% {\n",
              "      border-color: transparent;\n",
              "      border-right-color: var(--fill-color);\n",
              "      border-bottom-color: var(--fill-color);\n",
              "    }\n",
              "    90% {\n",
              "      border-color: transparent;\n",
              "      border-bottom-color: var(--fill-color);\n",
              "    }\n",
              "  }\n",
              "</style>\n",
              "\n",
              "  <script>\n",
              "    async function quickchart(key) {\n",
              "      const quickchartButtonEl =\n",
              "        document.querySelector('#' + key + ' button');\n",
              "      quickchartButtonEl.disabled = true;  // To prevent multiple clicks.\n",
              "      quickchartButtonEl.classList.add('colab-df-spinner');\n",
              "      try {\n",
              "        const charts = await google.colab.kernel.invokeFunction(\n",
              "            'suggestCharts', [key], {});\n",
              "      } catch (error) {\n",
              "        console.error('Error during call to suggestCharts:', error);\n",
              "      }\n",
              "      quickchartButtonEl.classList.remove('colab-df-spinner');\n",
              "      quickchartButtonEl.classList.add('colab-df-quickchart-complete');\n",
              "    }\n",
              "    (() => {\n",
              "      let quickchartButtonEl =\n",
              "        document.querySelector('#df-2c6c5f64-348a-4365-b9d8-0967d63b16b3 button');\n",
              "      quickchartButtonEl.style.display =\n",
              "        google.colab.kernel.accessAllowed ? 'block' : 'none';\n",
              "    })();\n",
              "  </script>\n",
              "</div>\n",
              "\n",
              "  <div id=\"id_7acf21d3-21fe-4802-bc71-754f088200d8\">\n",
              "    <style>\n",
              "      .colab-df-generate {\n",
              "        background-color: #E8F0FE;\n",
              "        border: none;\n",
              "        border-radius: 50%;\n",
              "        cursor: pointer;\n",
              "        display: none;\n",
              "        fill: #1967D2;\n",
              "        height: 32px;\n",
              "        padding: 0 0 0 0;\n",
              "        width: 32px;\n",
              "      }\n",
              "\n",
              "      .colab-df-generate:hover {\n",
              "        background-color: #E2EBFA;\n",
              "        box-shadow: 0px 1px 2px rgba(60, 64, 67, 0.3), 0px 1px 3px 1px rgba(60, 64, 67, 0.15);\n",
              "        fill: #174EA6;\n",
              "      }\n",
              "\n",
              "      [theme=dark] .colab-df-generate {\n",
              "        background-color: #3B4455;\n",
              "        fill: #D2E3FC;\n",
              "      }\n",
              "\n",
              "      [theme=dark] .colab-df-generate:hover {\n",
              "        background-color: #434B5C;\n",
              "        box-shadow: 0px 1px 3px 1px rgba(0, 0, 0, 0.15);\n",
              "        filter: drop-shadow(0px 1px 2px rgba(0, 0, 0, 0.3));\n",
              "        fill: #FFFFFF;\n",
              "      }\n",
              "    </style>\n",
              "    <button class=\"colab-df-generate\" onclick=\"generateWithVariable('df')\"\n",
              "            title=\"Generate code using this dataframe.\"\n",
              "            style=\"display:none;\">\n",
              "\n",
              "  <svg xmlns=\"http://www.w3.org/2000/svg\" height=\"24px\"viewBox=\"0 0 24 24\"\n",
              "       width=\"24px\">\n",
              "    <path d=\"M7,19H8.4L18.45,9,17,7.55,7,17.6ZM5,21V16.75L18.45,3.32a2,2,0,0,1,2.83,0l1.4,1.43a1.91,1.91,0,0,1,.58,1.4,1.91,1.91,0,0,1-.58,1.4L9.25,21ZM18.45,9,17,7.55Zm-12,3A5.31,5.31,0,0,0,4.9,8.1,5.31,5.31,0,0,0,1,6.5,5.31,5.31,0,0,0,4.9,4.9,5.31,5.31,0,0,0,6.5,1,5.31,5.31,0,0,0,8.1,4.9,5.31,5.31,0,0,0,12,6.5,5.46,5.46,0,0,0,6.5,12Z\"/>\n",
              "  </svg>\n",
              "    </button>\n",
              "    <script>\n",
              "      (() => {\n",
              "      const buttonEl =\n",
              "        document.querySelector('#id_7acf21d3-21fe-4802-bc71-754f088200d8 button.colab-df-generate');\n",
              "      buttonEl.style.display =\n",
              "        google.colab.kernel.accessAllowed ? 'block' : 'none';\n",
              "\n",
              "      buttonEl.onclick = () => {\n",
              "        google.colab.notebook.generateWithVariable('df');\n",
              "      }\n",
              "      })();\n",
              "    </script>\n",
              "  </div>\n",
              "\n",
              "    </div>\n",
              "  </div>\n"
            ],
            "application/vnd.google.colaboratory.intrinsic+json": {
              "type": "dataframe",
              "variable_name": "df",
              "summary": "{\n  \"name\": \"df\",\n  \"rows\": 3,\n  \"fields\": [\n    {\n      \"column\": \"Titulo\",\n      \"properties\": {\n        \"dtype\": \"string\",\n        \"num_unique_values\": 3,\n        \"samples\": [\n          \"Opera\\u00e7\\u00e3o do sistema de controle clim\\u00e1tico\",\n          \"Touchscreen\",\n          \"Mudan\\u00e7a de marchas\"\n        ],\n        \"semantic_type\": \"\",\n        \"description\": \"\"\n      }\n    },\n    {\n      \"column\": \"Conteudo\",\n      \"properties\": {\n        \"dtype\": \"string\",\n        \"num_unique_values\": 3,\n        \"samples\": [\n          \"O Googlecar tem um sistema de controle clim\\u00e1tico que permite ajustar a temperatura e o fluxo de ar no carro. Para operar o sistema, siga estas etapas:\\n\\n1. Pressione o bot\\u00e3o de controle clim\\u00e1tico no console central.\\n2. Use os bot\\u00f5es para cima e para baixo para ajustar a temperatura desejada.\\n3. Use o bot\\u00e3o de ventilador para ajustar o fluxo de ar desejado.\\n4. Para desligar o sistema de controle clim\\u00e1tico, pressione o bot\\u00e3o de controle clim\\u00e1tico novamente.\\n\\n**Observa\\u00e7\\u00f5es:**\\n* O sistema de controle clim\\u00e1tico tamb\\u00e9m pode ser controlado usando a tela sens\\u00edvel ao toque no console central.\\n* Se voc\\u00ea tiver alguma d\\u00favida sobre como operar o sistema de controle clim\\u00e1tico, consulte o manual do propriet\\u00e1rio do seu Googlecar.\",\n          \"O seu Googlecar tem uma grande tela sens\\u00edvel ao toque que fornece acesso a uma variedade de recursos, incluindo navega\\u00e7\\u00e3o, entretenimento, comunica\\u00e7\\u00e3o e configura\\u00e7\\u00f5es. Para usar a tela sens\\u00edvel ao toque, siga estas etapas:\\n\\n1. Toque na tela para abrir um aplicativo ou fun\\u00e7\\u00e3o.\\n2. Deslize o dedo pela tela para rolar por listas ou op\\u00e7\\u00f5es.\\n3. Toque e segure um item para abri-lo em um menu pop-up.\\n4. Pince ou afaste os dedos para aumentar ou diminuir o zoom.\\n5. Para fechar um aplicativo ou fun\\u00e7\\u00e3o, toque no bot\\u00e3o Voltar na parte inferior da tela.\\n\\n**Observa\\u00e7\\u00f5es:**\\n* A tela sens\\u00edvel ao toque tamb\\u00e9m pode ser controlada usando comandos de voz.\\n* Se voc\\u00ea tiver alguma d\\u00favida sobre como usar a tela sens\\u00edvel ao toque, consulte o manual do propriet\\u00e1rio do seu Googlecar.\",\n          \"Seu Googlecar tem uma transmiss\\u00e3o autom\\u00e1tica. Para trocar as marchas, basta mover a alavanca de c\\u00e2mbio para a posi\\u00e7\\u00e3o desejada. As posi\\u00e7\\u00f5es da alavanca de c\\u00e2mbio s\\u00e3o as seguintes:\\n\\n* **P:** Estacionamento\\n* **R:** R\\u00e9\\n* **N:** Neutro\\n* **D:** Drive\\n* **L:** Baixa marcha\\n\\n**Observa\\u00e7\\u00f5es:**\\n* Se voc\\u00ea n\\u00e3o tiver certeza de qual marcha usar, consulte o manual do propriet\\u00e1rio do seu Googlecar.\\n* Voc\\u00ea tamb\\u00e9m pode usar os bot\\u00f5es no volante para trocar as marchas em alguns modelos de Googlecar.\"\n        ],\n        \"semantic_type\": \"\",\n        \"description\": \"\"\n      }\n    },\n    {\n      \"column\": \"Embeddings\",\n      \"properties\": {\n        \"dtype\": \"object\",\n        \"semantic_type\": \"\",\n        \"description\": \"\"\n      }\n    }\n  ]\n}"
            }
          },
          "metadata": {},
          "execution_count": 47
        }
      ]
    },
    {
      "cell_type": "code",
      "source": [
        "# Função de busca por embedding\n",
        "\n",
        "def gerar_e_buscar_consulta(consulta, base, model):\n",
        "  embedding_consulta = genai.embed_content(model=model,\n",
        "                             content=consulta,\n",
        "                             task_type=\"RETRIEVAL_QUERY\")['embedding']\n",
        "\n",
        "  produtos_escalares = np.dot(np.stack(df[\"Embeddings\"]), embedding_consulta)\n",
        "\n",
        "  indice = np.argmax(produtos_escalares)\n",
        "\n",
        "  return df.iloc[indice][\"Conteudo\"]"
      ],
      "metadata": {
        "id": "pw8A6NUWZFDM"
      },
      "execution_count": 48,
      "outputs": []
    },
    {
      "cell_type": "markdown",
      "source": [
        "### Gerando consulta via prompt e documentos"
      ],
      "metadata": {
        "id": "YxhM46NQex6-"
      }
    },
    {
      "cell_type": "code",
      "source": [
        "consulta = \"Como eu troco a marcha no carro do google? To pensando em comprar um...\"\n",
        "\n",
        "melhor_documento = gerar_e_buscar_consulta(consulta, df, model)\n",
        "\n",
        "print(melhor_documento)"
      ],
      "metadata": {
        "colab": {
          "base_uri": "https://localhost:8080/",
          "height": 208
        },
        "id": "G7TJ5zIMbwmr",
        "outputId": "600cfc34-1364-426d-9788-cbc29d0164b4"
      },
      "execution_count": 58,
      "outputs": [
        {
          "output_type": "stream",
          "name": "stdout",
          "text": [
            "Seu Googlecar tem uma transmissão automática. Para trocar as marchas, basta mover a alavanca de câmbio para a posição desejada. As posições da alavanca de câmbio são as seguintes:\n",
            "\n",
            "* **P:** Estacionamento\n",
            "* **R:** Ré\n",
            "* **N:** Neutro\n",
            "* **D:** Drive\n",
            "* **L:** Baixa marcha\n",
            "\n",
            "**Observações:**\n",
            "* Se você não tiver certeza de qual marcha usar, consulte o manual do proprietário do seu Googlecar.\n",
            "* Você também pode usar os botões no volante para trocar as marchas em alguns modelos de Googlecar.\n"
          ]
        }
      ]
    },
    {
      "cell_type": "markdown",
      "source": [
        "### Mesclando com o modelo generativo"
      ],
      "metadata": {
        "id": "_ILFD79Adlll"
      }
    },
    {
      "cell_type": "code",
      "source": [
        "generation_config = {\n",
        "    \"temperature\" : 0,\n",
        "    \"candidate_count\": 1\n",
        "}"
      ],
      "metadata": {
        "id": "kFeHuCyBg2NI"
      },
      "execution_count": 65,
      "outputs": []
    },
    {
      "cell_type": "code",
      "source": [
        "prompt = f\"Imagine que você é um funcionário que trabalha no suporte de vendas de uma empresa. Fiz essa pergunta: {consulta} e os embeddings decidiram que esse é o melhor resultado. Reescreva esse texto de uma forma mais decontraída e meio séria, sem adicionar informações que não facam parte do contexto: {melhor_documento}\"\n",
        "\n",
        "model_2 = genai.GenerativeModel(\"gemini-1.0-pro\", generation_config=generation_config)\n",
        "response = model_2.generate_content(prompt)\n",
        "print(response.text)"
      ],
      "metadata": {
        "colab": {
          "base_uri": "https://localhost:8080/",
          "height": 208
        },
        "id": "mcsRFKnSdw1z",
        "outputId": "79f5b8b6-1161-4f5e-cd44-bc603de5e975"
      },
      "execution_count": 66,
      "outputs": [
        {
          "output_type": "stream",
          "name": "stdout",
          "text": [
            "Ei, cara! Então você tá pensando em pegar um Googlecar, hein? Legal! Sobre a troca de marchas, é moleza. O carro tem câmbio automático, então você só precisa mexer na alavanca pra escolher a marcha que quer.\n",
            "\n",
            "Aqui estão as marchas:\n",
            "\n",
            "* **P:** Pra estacionar\n",
            "* **R:** Ré\n",
            "* **N:** Neutro\n",
            "* **D:** Pra dirigir\n",
            "* **L:** Marcha baixa\n",
            "\n",
            "Se ficar na dúvida, dá uma olhada no manual do carro. Alguns modelos também têm botões no volante pra trocar as marchas.\n"
          ]
        }
      ]
    }
  ]
}